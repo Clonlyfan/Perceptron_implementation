{
 "cells": [
  {
   "cell_type": "code",
   "execution_count": 5,
   "metadata": {},
   "outputs": [],
   "source": [
    "import os\n",
    "import matplotlib.pyplot as plt\n",
    "import joblib\n",
    "import numpy as np\n",
    "import pandas as pd\n"
   ]
  },
  {
   "cell_type": "code",
   "execution_count": 4,
   "metadata": {},
   "outputs": [],
   "source": [
    "class perceptron:\n",
    "    def __init__(self,eta:float=None,epochs:int=None):\n",
    "        self.weights = np.random.randn(3) * 1e-4\n",
    "        self.eta = eta # learning rate\n",
    "        self.epochs = epochs # iterations\n",
    "    def _z_outcome(self, inputs, weights):\n",
    "        return np.dot(inputs, weights)\n",
    "    \n",
    "    def activation_function(self, z):\n",
    "        return np.where(z > 0, 1, 0)\n",
    "\n",
    "    def fit(self, X, y):\n",
    "        self.X = X\n",
    "        self.y = y\n",
    "        \n",
    "        X_with_bias = np.c_[self.X, -np.ones((len(self.X), 1))]\n",
    "        print(f\"X with bias: \\n{X_with_bias}\")\n",
    "        for epoch in range(self.epochs):\n",
    "          \n",
    "            \n",
    "            z = self._z_outcome(X_with_bias, self.weights)\n",
    "            y_hat = self.activation_function(z)\n",
    "            \n",
    "            \n",
    "            self.error = self.y - y_hat\n",
    "            \n",
    "            \n",
    "            self.weights = self.weights + self.eta * np.dot(X_with_bias.T, self.error)\n",
    "            "
   ]
  }
 ],
 "metadata": {
  "kernelspec": {
   "display_name": "Python 3",
   "language": "python",
   "name": "python3"
  },
  "language_info": {
   "codemirror_mode": {
    "name": "ipython",
    "version": 3
   },
   "file_extension": ".py",
   "mimetype": "text/x-python",
   "name": "python",
   "nbconvert_exporter": "python",
   "pygments_lexer": "ipython3",
   "version": "3.7.16"
  },
  "orig_nbformat": 4
 },
 "nbformat": 4,
 "nbformat_minor": 2
}
